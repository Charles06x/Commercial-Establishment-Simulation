{
 "cells": [
  {
   "cell_type": "markdown",
   "metadata": {},
   "source": [
    "# Midterm 2\n",
    "#### This notebook simulates 1000 days of work in a commercial establishment\n",
    "#### which recives jobs following a exponential distribution 5/10, and the service\n",
    "#### time follows a distribution 6/10"
   ]
  },
  {
   "cell_type": "code",
   "execution_count": 49,
   "metadata": {},
   "outputs": [],
   "source": [
    "#The import block: modules needed are imported here.\n",
    "\n",
    "from random import expovariate\n",
    "from numpy import mean"
   ]
  },
  {
   "cell_type": "code",
   "execution_count": 50,
   "metadata": {},
   "outputs": [],
   "source": [
    "#This block has the function that is intended to calculate the arrival and service time in a random way\n",
    "#based on the amount of minutes of work in a day.\n",
    "\n",
    "##It returns two lists: arrival times and services times.\n",
    "\n",
    "def generateArrivalAndServiceTimes():\n",
    "    workingDay = 8*60 #8 hours expressed in minutes.\n",
    "    arrivals = [] #This will contain the arrival times for n works in a day.\n",
    "    services = [] #This will contain the service times for n works in a day.\n",
    "    totalAmountOfHours = 0\n",
    "    while totalAmountOfHours < workingDay:\n",
    "        nArrivalTime = expovariate(0.5)\n",
    "        nServiceTime = expovariate(0.6)\n",
    "        totalAmountOfHours += nArrivalTime\n",
    "        arrivals.append(nArrivalTime)\n",
    "        services.append(nServiceTime)\n",
    "    return arrivals, services"
   ]
  },
  {
   "cell_type": "code",
   "execution_count": 51,
   "metadata": {},
   "outputs": [],
   "source": [
    "#This blocks contains the delay time function\n",
    "\n",
    "##It returns two lists: delay time, and departure time.\n",
    "\n",
    "def delayTime(a, s):\n",
    "    c = [0.0]*len(a)\n",
    "    i = 0\n",
    "    d = [0.0]*len(a)\n",
    "    while i < len(a)-1:\n",
    "        i+=1\n",
    "        if a[i] < c[i-1]:\n",
    "            d[i] = c[i-1] - a[i]\n",
    "        else:\n",
    "            d[i] = 0\n",
    "        c[i] = a[i] + d[i] + s[i]\n",
    "    return d, c"
   ]
  },
  {
   "cell_type": "code",
   "execution_count": 52,
   "metadata": {},
   "outputs": [],
   "source": [
    "#This block contains the job-averaged statistics\n",
    "\n",
    "def averageInterarrival(a):\n",
    "    r = mean(a)\n",
    "    aR = 1/r\n",
    "    return r, aR\n",
    "\n",
    "def averageService(s):\n",
    "    s = mean(s)\n",
    "    sR = 1/s\n",
    "    return s, sR\n",
    "\n",
    "def averageDelay(delay):\n",
    "    d = mean(delay)\n",
    "    return d\n",
    "\n",
    "def averageWait(d, s):\n",
    "    w = mean(d) + mean(s)\n",
    "    return w"
   ]
  },
  {
   "cell_type": "code",
   "execution_count": 53,
   "metadata": {},
   "outputs": [],
   "source": [
    "#This block contains the time-averaged statistics using little's theorem.\n",
    "\n",
    "#Ew //Sumatory of w divided by thao.\n",
    "#It recieves three parameters: delay times (list), service times (list), departure times (list).\n",
    "def little_jobsInServiceNode(d, s, c):\n",
    "    w = 0.0\n",
    "    for i, j in zip(d, s):\n",
    "        w+=(i+j)\n",
    "    return w/c[-1]\n",
    "\n",
    "#Ed //Sumatory of d divided by thao\n",
    "#It recieves two parameters: delay times (list), departure times (list).\n",
    "def little_jobsInQueue(d, c):\n",
    "    sumD = 0.0\n",
    "    for i in d:\n",
    "        sumD+=i\n",
    "    return sumD/c[-1]\n",
    "\n",
    "#Es //Sumatory of s divided by thao\n",
    "#It recieves two parameters: service times (list), departure times (list).\n",
    "def little_jobsInService(s, c):\n",
    "    sumS = 0.0\n",
    "    for i in s:\n",
    "        sumS+=i\n",
    "    return sumS/c[-1]"
   ]
  },
  {
   "cell_type": "code",
   "execution_count": 57,
   "metadata": {},
   "outputs": [],
   "source": [
    "#This blocks contains the interval estimation function.\n",
    "#Recieves a list and a number as parameters.\n",
    "def intervalEstimation(data, confidence):\n",
    "    xMean = mean(data)\n",
    "    s2 = 0\n",
    "    for i in data:\n",
    "        s2 += (i - xMean)**2  \n",
    "    s2 = s2/len(data)\n",
    "    s = s2**(1/2) #Standard deviation\n",
    "    alpha = (100 - confidence)/100\n",
    "    t = 1-alpha/2\n",
    "    \n",
    "    start = xMean - (t * s)/(len(data)-1)**(1/2)\n",
    "    end = xMean + (t * s)/(len(data)-1)**(1/2)\n",
    "    \n",
    "    interval = {'start': start, 'end': end}\n",
    "    return interval"
   ]
  },
  {
   "cell_type": "code",
   "execution_count": 65,
   "metadata": {},
   "outputs": [
    {
     "name": "stdout",
     "output_type": "stream",
     "text": [
      "###########  Results ############\n",
      "\n",
      "#### Amount of jobs intervals: {'start': 240.21770576086863, 'end': 241.17029423913135}\n",
      "\n",
      "#### Job-average statistics intervals: \n",
      "\n",
      "Average interarrival time intervals: {'start': 2.007069200825413, 'end': 2.015134061095877} | Arrivals rate intervals: {'start': 0.4983281954643107, 'end': 0.5003109474525802}\n",
      "\n",
      "Average service time intervals: {'start': 1.6653657545672735, 'end': 1.672082537013813} | Service rate intervals: {'start': 0.6006052519394789, 'end': 0.6030385203108031}\n",
      "\n",
      "Average delay time intervals: {'start': 198.6022151162109, 'end': 199.8404383283538}\n",
      "\n",
      "Average wait time intervals: {'start': 200.2686588972696, 'end': 201.5114428388762}\n",
      "\n",
      "#################################\n",
      "\n",
      "#### Time-average statistics intervals: \n",
      "\n",
      "Intervals for time in service node: {'start': 119.67141858507622, 'end': 120.2162203636021}\n",
      "\n",
      "Intervals for time in queue: {'start': 118.67486163906295, 'end': 119.21963284559138}\n",
      "\n",
      "Intervals for time in service: {'start': 0.9963536358964601, 'end': 0.9967908281275569}\n",
      "\n"
     ]
    }
   ],
   "source": [
    "amountOfJobs = []\n",
    "\n",
    "avgInterarrivals = []; arrivalRate = []; avgServices = []; serviceRate = []; avgDelays = []; avgWaits = []\n",
    "\n",
    "jbsInServiceNode = []; jbsInQueue = []; jbsInService = []\n",
    "for i in range(1000):\n",
    "    arrivals, services = generateArrivalAndServiceTimes()\n",
    "    amountOfJobs.append(len(arrivals))\n",
    "    delays, c = delayTime(arrivals, services)\n",
    "    aI, aR = averageInterarrival(arrivals)\n",
    "    avgInterarrivals.append(aI); arrivalRate.append(aR)\n",
    "    \n",
    "    aS, sR = averageService(services)\n",
    "    avgServices.append(aS); serviceRate.append(sR)\n",
    "    \n",
    "    avgDelays.append(averageDelay(delays)); avgWaits.append(averageWait(delays, services))\n",
    "    \n",
    "    jbsInServiceNode.append(little_jobsInServiceNode(delays, services, c))\n",
    "    jbsInQueue.append(little_jobsInQueue(delays, c))\n",
    "    jbsInService.append(little_jobsInService(services, c))    \n",
    "\n",
    "print(\"###########  Results ############\\n\")\n",
    "print(\"#### Amount of jobs intervals: {}\\n\".format(intervalEstimation(amountOfJobs, 95)))\n",
    "\n",
    "print(\"#### Job-average statistics intervals: \\n\")\n",
    "print(\"Average interarrival time intervals: {} | Arrivals rate intervals: {}\\n\".format(intervalEstimation(avgInterarrivals, 95), intervalEstimation(arrivalRate, 95)))\n",
    "print(\"Average service time intervals: {} | Service rate intervals: {}\\n\".format(intervalEstimation(avgServices, 95), intervalEstimation(serviceRate, 95)))\n",
    "print(\"Average delay time intervals: {}\\n\".format(intervalEstimation(avgDelays, 95)))\n",
    "print(\"Average wait time intervals: {}\\n\".format(intervalEstimation(avgWaits, 95)))\n",
    "\n",
    "print(\"#################################\\n\")\n",
    "print(\"#### Time-average statistics intervals: \\n\")\n",
    "print(\"Intervals for time in service node: {}\\n\".format(intervalEstimation(jbsInServiceNode, 95)))\n",
    "print(\"Intervals for time in queue: {}\\n\".format(intervalEstimation(jbsInQueue, 95)))\n",
    "print(\"Intervals for time in service: {}\\n\".format(intervalEstimation(jbsInService, 95)))\n"
   ]
  },
  {
   "cell_type": "code",
   "execution_count": null,
   "metadata": {},
   "outputs": [],
   "source": []
  },
  {
   "cell_type": "code",
   "execution_count": null,
   "metadata": {},
   "outputs": [],
   "source": []
  }
 ],
 "metadata": {
  "kernelspec": {
   "display_name": "Python 3",
   "language": "python",
   "name": "python3"
  },
  "language_info": {
   "codemirror_mode": {
    "name": "ipython",
    "version": 3
   },
   "file_extension": ".py",
   "mimetype": "text/x-python",
   "name": "python",
   "nbconvert_exporter": "python",
   "pygments_lexer": "ipython3",
   "version": "3.6.5"
  }
 },
 "nbformat": 4,
 "nbformat_minor": 2
}
